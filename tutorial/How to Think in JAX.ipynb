{
 "cells": [
  {
   "cell_type": "markdown",
   "id": "authentic-limitation",
   "metadata": {},
   "source": [
    "# JAX vs. NumPy"
   ]
  },
  {
   "cell_type": "markdown",
   "id": "offensive-latvia",
   "metadata": {},
   "source": [
    "**Key concepts:**\n",
    "  * JAX provides a NumPy-inspired interface for convenience.\n",
    "  * Through duck-typing, JAX arrays can often be used as drop-in replacement of NumPy arrays.\n",
    "  * Unlike NumPy arrays, JAX arrays are always immutable."
   ]
  },
  {
   "cell_type": "code",
   "execution_count": 1,
   "id": "anonymous-garden",
   "metadata": {},
   "outputs": [],
   "source": [
    "import matplotlib.pyplot as plt\n",
    "import numpy as np"
   ]
  },
  {
   "cell_type": "code",
   "execution_count": null,
   "id": "measured-tomorrow",
   "metadata": {},
   "outputs": [],
   "source": []
  }
 ],
 "metadata": {
  "kernelspec": {
   "display_name": "Python 3",
   "language": "python",
   "name": "python3"
  },
  "language_info": {
   "codemirror_mode": {
    "name": "ipython",
    "version": 3
   },
   "file_extension": ".py",
   "mimetype": "text/x-python",
   "name": "python",
   "nbconvert_exporter": "python",
   "pygments_lexer": "ipython3",
   "version": "3.7.3"
  }
 },
 "nbformat": 4,
 "nbformat_minor": 5
}
